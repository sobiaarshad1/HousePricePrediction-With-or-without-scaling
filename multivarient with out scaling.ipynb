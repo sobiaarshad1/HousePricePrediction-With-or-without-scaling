{
 "cells": [
  {
   "cell_type": "code",
   "execution_count": 1,
   "id": "66e7c3bf",
   "metadata": {},
   "outputs": [
    {
     "name": "stdout",
     "output_type": "stream",
     "text": [
      "Total no of training examples (m) = 119 \n",
      "\n",
      "x = [3.  1.5 1.5] , y = 313000.0\n",
      "x = [5.  2.5 2. ] , y = 2384000.0\n",
      "x = [3. 2. 1.] , y = 342000.0\n",
      "x = [3.   2.25 1.  ] , y = 420000.0\n",
      "x = [4.  2.5 1. ] , y = 550000.0\n"
     ]
    }
   ],
   "source": [
    "import numpy as np\n",
    "import pandas as pd\n",
    "import matplotlib.pyplot as plt\n",
    "\n",
    "df = pd.read_csv(r'C:\\Users\\fahad mehmood\\Downloads\\ML\\housingdata.csv')\n",
    "df.head()\n",
    "\n",
    "X = df.values[:, 0:3] \n",
    "y = df.values[:, 3]\n",
    "m = len(y) # Number of training examples\n",
    "\n",
    "print('Total no of training examples (m) = %s \\n' %(m))\n",
    "\n",
    "# Show only first 5 records\n",
    "for i in range(5):\n",
    "    print('x =', X[i, ], ', y =', y[i])\n",
    "    \n",
    "\n",
    "\n"
   ]
  },
  {
   "cell_type": "code",
   "execution_count": 2,
   "id": "f4bc02b2",
   "metadata": {},
   "outputs": [
    {
     "name": "stdout",
     "output_type": "stream",
     "text": [
      "predictions=  [0. 0. 0. 0. 0.]\n",
      "errors=  [ -313000. -2384000.  -342000.  -420000.  -550000.]\n",
      "sum_delta=  [-301405.96008403 -183852.58960084 -128038.88445378]\n",
      "predictions=  [1372055.09133403 2222739.04332983 1399961.94390756 1445925.09130777\n",
      " 1793294.19879202]\n",
      "errors=  [1059055.09133403 -161260.95667017 1057961.94390756 1025925.09130777\n",
      " 1243294.19879202]\n",
      "sqrErrors=  [1.12159769e+12 2.60050961e+10 1.11928347e+12 1.05252229e+12\n",
      " 1.54578046e+12]\n",
      "Final value of theta = [301405.96008403 183852.58960084 128038.88445378]\n",
      "First 5 values from cost_history = [6.15272018e+11 0.00000000e+00 0.00000000e+00 0.00000000e+00\n",
      " 0.00000000e+00]\n",
      "Last 5 values from cost_history = [0. 0. 0. 0. 0.]\n"
     ]
    }
   ],
   "source": [
    "\n",
    "def compute_cost(X, y, theta):\n",
    "    predictions = X.dot(theta)\n",
    "    print('predictions= ', predictions[:5])\n",
    "    errors = np.subtract(predictions, y)\n",
    "    print('errors= ', errors[:5]) \n",
    "    sqrErrors = np.square(errors)\n",
    "    print('sqrErrors= ', sqrErrors[:5]) \n",
    "    J = 1/(2 * m) * errors.T.dot(errors)\n",
    "    return J\n",
    "\n",
    "def gradient_descent(X, y, theta, alpha, iterations):\n",
    "    cost_history = np.zeros(iterations)\n",
    "    for i in range(iterations):\n",
    "        predictions = X.dot(theta)\n",
    "        print('predictions= ', predictions[:5])\n",
    "        errors = np.subtract(predictions, y)\n",
    "        print('errors= ', errors[:5])\n",
    "        sum_delta = (alpha / m) * X.transpose().dot(errors);\n",
    "        print('sum_delta= ', sum_delta[:5])\n",
    "        theta = theta - sum_delta;\n",
    "        cost_history[i] = compute_cost(X, y, theta)  \n",
    "        return theta, cost_history\n",
    "\n",
    "theta = np.zeros(3)\n",
    "iterations = 400;\n",
    "alpha = 0.15;\n",
    "\n",
    "#theta, compute_cost = compute_cost(X, y, theta)\n",
    "#print('Final value of theta =', theta)\n",
    "#print('First 5 values from cost_history =',compute_cost[:5])\n",
    "#print('Last 5 values from cost_history =', compute_cost[-5 :])\n",
    "\n",
    "theta, cost_history = gradient_descent(X, y, theta, alpha, iterations)\n",
    "print('Final value of theta =', theta)\n",
    "print('First 5 values from cost_history =', cost_history[:5])\n",
    "print('Last 5 values from cost_history =', cost_history[-5 :])\n"
   ]
  },
  {
   "cell_type": "code",
   "execution_count": 3,
   "id": "6f088ea1",
   "metadata": {},
   "outputs": [
    {
     "data": {
      "text/plain": [
       "Text(0.5, 1.0, 'Convergence of gradient descent')"
      ]
     },
     "execution_count": 3,
     "metadata": {},
     "output_type": "execute_result"
    },
    {
     "data": {
      "image/png": "[encoded data removed]",
      "text/plain": [
       "<Figure size 432x288 with 1 Axes>"
      ]
     },
     "metadata": {
      "needs_background": "light"
     },
     "output_type": "display_data"
    }
   ],
   "source": [
    "import matplotlib.pyplot as plt\n",
    "plt.plot(range(1, iterations +1), cost_history, color ='blue')\n",
    "plt.rcParams[\"figure.figsize\"] = (10,6)\n",
    "plt.grid()\n",
    "plt.xlabel(\"Number of iterations\")\n",
    "plt.ylabel(\"cost (J)\")\n",
    "plt.title(\"Convergence of gradient descent\")"
   ]
  },
  {
   "cell_type": "code",
   "execution_count": 5,
   "id": "b016eb62",
   "metadata": {},
   "outputs": [
    {
     "name": "stdout",
     "output_type": "stream",
     "text": [
      "predictions=  [0. 0. 0. 0. 0.]\n",
      "errors=  [ -313000. -2384000.  -342000.  -420000.  -550000.]\n",
      "sum_delta=  [-15472172.61764706  -9437766.26617647  -6572662.73529412]\n",
      "predictions=  [7.04321614e+07 1.14100604e+08 7.18647131e+07 7.42241547e+07\n",
      " 9.20557689e+07]\n",
      "errors=  [7.01191614e+07 1.11716604e+08 7.15227131e+07 7.38041547e+07\n",
      " 9.15057689e+07]\n",
      "sqrErrors=  [4.91669679e+15 1.24805997e+16 5.11549849e+15 5.44705325e+15\n",
      " 8.37330574e+15]\n",
      "predictions=  [0. 0. 0. 0. 0.]\n",
      "errors=  [ -313000. -2384000.  -342000.  -420000.  -550000.]\n",
      "sum_delta=  [-21902166.43277311 -13359954.84432773  -9304158.93697479]\n",
      "predictions=  [9.97026700e+07 1.61519037e+08 1.01730568e+08 1.05070557e+08\n",
      " 1.30312712e+08]\n",
      "errors=  [9.93896700e+07 1.59135037e+08 1.01388568e+08 1.04650557e+08\n",
      " 1.29762712e+08]\n",
      "sqrErrors=  [9.87830650e+15 2.53239600e+16 1.02796417e+16 1.09517390e+16\n",
      " 1.68383614e+16]\n",
      "predictions=  [0. 0. 0. 0. 0.]\n",
      "errors=  [ -313000. -2384000.  -342000.  -420000.  -550000.]\n",
      "sum_delta=  [-12054229.03029412  -7352877.90010294  -5120701.78558823]\n",
      "predictions=  [54873056.61941911 88894743.47290441 55989144.67667646 57827364.1517022\n",
      " 71719812.65702206]\n",
      "errors=  [54560056.61941911 86510743.47290441 55647144.67667646 57407364.1517022\n",
      " 71169812.65702206]\n",
      "sqrErrors=  [2.97679978e+15 7.48410874e+15 3.09660471e+15 3.29560546e+15\n",
      " 5.06514223e+15]\n",
      "predictions=  [0. 0. 0. 0. 0.]\n",
      "errors=  [ -313000. -2384000.  -342000.  -420000.  -550000.]\n",
      "sum_delta=  [-6630931.12184874 -4044756.97121849 -2816855.45798319]\n",
      "predictions=  [30185212.00934874 48900258.95325629 30799162.76596638 31810352.008771\n",
      " 39452472.37342437]\n",
      "errors=  [29872212.00934874 46516258.95325629 30457162.76596638 31390352.008771\n",
      " 38902472.37342437]\n",
      "sqrErrors=  [8.92349050e+14 2.16376235e+15 9.27638764e+14 9.85354199e+14\n",
      " 1.51340236e+15]\n",
      "predictions=  [0. 0. 0. 0. 0.]\n",
      "errors=  [ -313000. -2384000.  -342000.  -420000.  -550000.]\n",
      "sum_delta=  [-16376390.49789916  -9989324.03497899  -6956779.38865546]\n",
      "predictions=  [7.45483266e+07 1.20768821e+08 7.60645990e+07 7.85619300e+07\n",
      " 9.74356515e+07]\n",
      "errors=  [7.42353266e+07 1.18384821e+08 7.57225990e+07 7.81419300e+07\n",
      " 9.68856515e+07]\n",
      "sqrErrors=  [5.51088372e+15 1.40149659e+16 5.73391199e+15 6.10616122e+15\n",
      " 9.38682946e+15]\n"
     ]
    },
    {
     "data": {
      "text/plain": [
       "<matplotlib.legend.Legend at 0x210b6a2ef40>"
      ]
     },
     "execution_count": 5,
     "metadata": {},
     "output_type": "execute_result"
    },
    {
     "data": {
      "image/png": "[encoded data removed]",
      "text/plain": [
       "<Figure size 720x432 with 1 Axes>"
      ]
     },
     "metadata": {
      "needs_background": "light"
     },
     "output_type": "display_data"
    }
   ],
   "source": [
    "iterations = 15;\n",
    "theta = np.zeros(3)\n",
    "\n",
    "alpha = 7.7;\n",
    "theta_1, cost_history_1 = gradient_descent(X, y, theta, alpha, iterations)\n",
    "\n",
    "alpha = 10.9;\n",
    "theta_2, cost_history_2 = gradient_descent(X, y, theta, alpha, iterations)\n",
    "\n",
    "alpha = 5.999;\n",
    "theta_3, cost_history_3 = gradient_descent(X, y, theta, alpha, iterations)\n",
    "\n",
    "alpha = 3.3;\n",
    "theta_4, cost_history_4 = gradient_descent(X, y, theta, alpha, iterations)\n",
    "\n",
    "alpha = 8.15;\n",
    "theta_5, cost_history_5 = gradient_descent(X, y, theta, alpha, iterations)\n",
    "\n",
    "plt.plot(range(1, iterations +1), cost_history_1, color ='purple', label = 'alpha = 7.7')\n",
    "plt.plot(range(1, iterations +1), cost_history_2, color ='red', label = 'alpha = 10.9')\n",
    "plt.plot(range(1, iterations +1), cost_history_3, color ='green', label = 'alpha = 5.999')\n",
    "plt.plot(range(1, iterations +1), cost_history_4, color ='yellow', label = 'alpha = 3.3')\n",
    "plt.plot(range(1, iterations +1), cost_history_5, color ='blue', label = 'alpha = 8.15')\n",
    "\n",
    "plt.rcParams[\"figure.figsize\"] = (10,6)\n",
    "plt.grid()\n",
    "plt.xlabel(\"Number of iterations\")\n",
    "plt.ylabel(\"cost (J)\")\n",
    "plt.title(\"Effect of Learning Rate On Convergence of Gradient Descent\")\n",
    "plt.legend()"
   ]
  },
  {
   "cell_type": "code",
   "execution_count": 6,
   "id": "aa4d30c8",
   "metadata": {},
   "outputs": [
    {
     "name": "stdout",
     "output_type": "stream",
     "text": [
      "predictions=  [0. 0. 0. 0. 0.]\n",
      "errors=  [ -313000. -2384000.  -342000.  -420000.  -550000.]\n",
      "sum_delta=  [-2.01580306e+08 -1.22960612e+08 -8.56324059e+07]\n",
      "predictions=  [9.17630445e+08 1.48656787e+09 9.36294548e+08 9.67034701e+08\n",
      " 1.19935516e+09]\n",
      "errors=  [9.17317445e+08 1.48418387e+09 9.35952548e+08 9.66614701e+08\n",
      " 1.19880516e+09]\n",
      "sqrErrors=  [8.41471295e+17 2.20280177e+18 8.76007172e+17 9.34343980e+17\n",
      " 1.43713381e+18]\n"
     ]
    },
    {
     "data": {
      "text/plain": [
       "Text(0.5, 1.0, 'Effect of Large Learning Rate On Convergence of Gradient Descent')"
      ]
     },
     "execution_count": 6,
     "metadata": {},
     "output_type": "execute_result"
    },
    {
     "data": {
      "image/png": "[encoded data removed]",
      "text/plain": [
       "<Figure size 720x432 with 1 Axes>"
      ]
     },
     "metadata": {
      "needs_background": "light"
     },
     "output_type": "display_data"
    }
   ],
   "source": [
    "iterations = 400;\n",
    "theta = np.zeros(3)\n",
    "\n",
    "alpha = 100.32;\n",
    "theta_6, cost_history_6 = gradient_descent(X, y, theta, alpha, iterations)\n",
    "\n",
    "plt.plot(range(1, iterations +1), cost_history_6, color ='brown')\n",
    "plt.rcParams[\"figure.figsize\"] = (10,6)\n",
    "plt.grid() \n",
    "plt.xlabel(\"Number of iterations\")\n",
    "plt.ylabel(\"cost (J)\")\n",
    "plt.title(\"Effect of Large Learning Rate On Convergence of Gradient Descent\")"
   ]
  },
  {
   "cell_type": "code",
   "execution_count": null,
   "id": "445b2992",
   "metadata": {},
   "outputs": [],
   "source": []
  }
 ],
 "metadata": {
  "kernelspec": {
   "display_name": "Python 3 (ipykernel)",
   "language": "python",
   "name": "python3"
  },
  "language_info": {
   "codemirror_mode": {
    "name": "ipython",
    "version": 3
   },
   "file_extension": ".py",
   "mimetype": "text/x-python",
   "name": "python",
   "nbconvert_exporter": "python",
   "pygments_lexer": "ipython3",
   "version": "3.9.12"
  }
 },
 "nbformat": 4,
 "nbformat_minor": 5
}
